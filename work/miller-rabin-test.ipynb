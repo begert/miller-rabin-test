{
 "cells": [
  {
   "cell_type": "markdown",
   "metadata": {},
   "source": [
    "# Miller-Rabin-Test"
   ]
  },
  {
   "cell_type": "code",
   "execution_count": null,
   "metadata": {},
   "outputs": [],
   "source": [
    "from IPython.display import display, Math, Markdown\n",
    "from math import log, floor\n",
    "import random\n",
    "def printmath(str, *args): display(Math(str%args))\n",
    "def printmd(str, *args): display(Markdown(str%args))"
   ]
  },
  {
   "cell_type": "markdown",
   "metadata": {},
   "source": [
    "**1. Wähle Kandidat n, eine ungerade Zahl >= 5**\n",
    "\n",
    "**2. Definiere j, d, sodass: $n-1=d\\cdot2^j$, (d ungerade)**"
   ]
  },
  {
   "cell_type": "code",
   "execution_count": null,
   "metadata": {},
   "outputs": [],
   "source": [
    "n = 105\n",
    "#n = 41\n",
    "#n = 62708184729929441281\n",
    "\n",
    "if n%2==0 or n<5:\n",
    "    raise ValueError(\"n muss ungerade und >= 5 sein!!\")\n",
    "printmath(\"n = %s\", n)\n",
    "j = 0\n",
    "d = n-1\n",
    "while d%2 == 0:\n",
    "    j = j + 1\n",
    "    d = int(d / 2)\n",
    "    \n",
    "printmath(\"j = %s\", j)\n",
    "printmath(r\"d = %s\", d)"
   ]
  },
  {
   "cell_type": "markdown",
   "metadata": {},
   "source": [
    "**Teste mit beliebigen $ a \\in \\{2, 3, ..., n-2\\}$**"
   ]
  },
  {
   "cell_type": "code",
   "execution_count": null,
   "metadata": {
    "scrolled": false
   },
   "outputs": [],
   "source": [
    "# Wähle eine Anzahl (numTests) zufällige a aus der Menge {2,3...,n-2}, numTests ist dabei maximal n-3\n",
    "numTests = min(n-3, 10)\n",
    "\n",
    "aa = set()\n",
    "while len(aa) is not numTests:\n",
    "    aa.add(random.randint(2, n-2))\n",
    "\n",
    "for i, a in enumerate(aa):\n",
    "    printmd(\"**Test %s,** $a=%s$\", i+1, a)\n",
    "    if pow(a, d, n) == 1:\n",
    "        printmath(r\"%s^{%s} \\equiv 1 \\pmod{%s} ,\\ \\text{ bestanden}\", a, d, n)\n",
    "        continue\n",
    "    else: printmath(r\"%s^{%s} \\not\\equiv 1 \\pmod{%s} ,\\ \\text{ durchgefallen}\", a, d, n)\n",
    "    for r in range(0, j):\n",
    "        if pow(a, d*2**r, n) == n-1:\n",
    "            printmath(r\"%s^{%s\\cdot2^{%s}} \\equiv -1 \\pmod{%s} ,\\ \\text{ bestanden}\", a, d, r, n)\n",
    "            break\n",
    "        else: printmath(r\"%s^{%s\\cdot2^{%s}} \\not\\equiv -1 \\pmod{%s} ,\\ \\text{ durchgefallen}\", a, d, r, n)\n",
    "    else:\n",
    "        printmd(\"**%s ist keine Primzahl!**\", n)\n",
    "        break\n",
    "else:\n",
    "    printmd(\"**Alle %s Tests bestanden, %s ist wahrscheinlich prim!**\", numTests, n)"
   ]
  }
 ],
 "metadata": {
  "kernelspec": {
   "display_name": "Python 3",
   "language": "python",
   "name": "python3"
  },
  "language_info": {
   "codemirror_mode": {
    "name": "ipython",
    "version": 3
   },
   "file_extension": ".py",
   "mimetype": "text/x-python",
   "name": "python",
   "nbconvert_exporter": "python",
   "pygments_lexer": "ipython3",
   "version": "3.6.3"
  }
 },
 "nbformat": 4,
 "nbformat_minor": 2
}
