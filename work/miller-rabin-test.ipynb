{
 "cells": [
  {
   "cell_type": "markdown",
   "metadata": {},
   "source": [
    "# Miller-Rabin-Test"
   ]
  },
  {
   "cell_type": "code",
   "execution_count": 11,
   "metadata": {},
   "outputs": [],
   "source": [
    "from IPython.display import display, Math, Markdown\n",
    "from math import log, floor\n",
    "import random\n",
    "def printmath(str, *args): display(Math(str%args))\n",
    "def printmd(str, *args): display(Markdown(str%args))"
   ]
  },
  {
   "cell_type": "markdown",
   "metadata": {},
   "source": [
    "**Wähle Kandidat n, eine ungerade Zahl >= 5**"
   ]
  },
  {
   "cell_type": "code",
   "execution_count": 71,
   "metadata": {},
   "outputs": [
    {
     "data": {
      "text/latex": [
       "$$n = 3668606533804371602905926074715$$"
      ],
      "text/plain": [
       "<IPython.core.display.Math object>"
      ]
     },
     "metadata": {},
     "output_type": "display_data"
    }
   ],
   "source": [
    "n = 89\n",
    "#n = 847062085561\n",
    "n = random.randrange(5, 1e32, 2)\n",
    "\n",
    "if n%2==0 or n<5:\n",
    "    raise ValueError(\"n muss ungerade und >= 5 sein!!\")\n",
    "printmath(\"n = %s\", n)"
   ]
  },
  {
   "cell_type": "markdown",
   "metadata": {},
   "source": [
    "**Definiere j, d, sodass: $n-1=d\\cdot2^j$**"
   ]
  },
  {
   "cell_type": "code",
   "execution_count": 72,
   "metadata": {},
   "outputs": [
    {
     "data": {
      "text/latex": [
       "$$j = 50$$"
      ],
      "text/plain": [
       "<IPython.core.display.Math object>"
      ]
     },
     "metadata": {},
     "output_type": "display_data"
    },
    {
     "data": {
      "text/latex": [
       "$$d = 3258377153695921$$"
      ],
      "text/plain": [
       "<IPython.core.display.Math object>"
      ]
     },
     "metadata": {},
     "output_type": "display_data"
    }
   ],
   "source": [
    "j = 0\n",
    "d = n-1\n",
    "while d%2 == 0:\n",
    "    j = j + 1\n",
    "    d = int(d / 2)\n",
    "    \n",
    "printmath(\"j = %s\", j)\n",
    "printmath(r\"d = %s\", d)"
   ]
  },
  {
   "cell_type": "markdown",
   "metadata": {},
   "source": [
    "**Teste mit beliebigen $ a \\in \\{2, 3, ..., n-2\\}$**"
   ]
  },
  {
   "cell_type": "code",
   "execution_count": 73,
   "metadata": {
    "scrolled": false
   },
   "outputs": [
    {
     "data": {
      "text/markdown": [
       "**Test 1,** $a=1543269312017268557313853455738$"
      ],
      "text/plain": [
       "<IPython.core.display.Markdown object>"
      ]
     },
     "metadata": {},
     "output_type": "display_data"
    },
    {
     "data": {
      "text/latex": [
       "$$1543269312017268557313853455738^{3258377153695921} \\not\\equiv 1 \\pmod{3668606533804371602905926074715} ,\\ \\text{ durchgefallen}$$"
      ],
      "text/plain": [
       "<IPython.core.display.Math object>"
      ]
     },
     "metadata": {},
     "output_type": "display_data"
    },
    {
     "data": {
      "text/latex": [
       "$$1543269312017268557313853455738^{3258377153695921\\cdot2^{0}} \\not\\equiv -1 \\pmod{3668606533804371602905926074715} ,\\ \\text{ durchgefallen}$$"
      ],
      "text/plain": [
       "<IPython.core.display.Math object>"
      ]
     },
     "metadata": {},
     "output_type": "display_data"
    },
    {
     "data": {
      "text/latex": [
       "$$1543269312017268557313853455738^{3258377153695921\\cdot2^{1}} \\not\\equiv -1 \\pmod{3668606533804371602905926074715} ,\\ \\text{ durchgefallen}$$"
      ],
      "text/plain": [
       "<IPython.core.display.Math object>"
      ]
     },
     "metadata": {},
     "output_type": "display_data"
    },
    {
     "data": {
      "text/latex": [
       "$$1543269312017268557313853455738^{3258377153695921\\cdot2^{2}} \\not\\equiv -1 \\pmod{3668606533804371602905926074715} ,\\ \\text{ durchgefallen}$$"
      ],
      "text/plain": [
       "<IPython.core.display.Math object>"
      ]
     },
     "metadata": {},
     "output_type": "display_data"
    },
    {
     "data": {
      "text/latex": [
       "$$1543269312017268557313853455738^{3258377153695921\\cdot2^{3}} \\not\\equiv -1 \\pmod{3668606533804371602905926074715} ,\\ \\text{ durchgefallen}$$"
      ],
      "text/plain": [
       "<IPython.core.display.Math object>"
      ]
     },
     "metadata": {},
     "output_type": "display_data"
    },
    {
     "data": {
      "text/latex": [
       "$$1543269312017268557313853455738^{3258377153695921\\cdot2^{4}} \\not\\equiv -1 \\pmod{3668606533804371602905926074715} ,\\ \\text{ durchgefallen}$$"
      ],
      "text/plain": [
       "<IPython.core.display.Math object>"
      ]
     },
     "metadata": {},
     "output_type": "display_data"
    },
    {
     "data": {
      "text/latex": [
       "$$1543269312017268557313853455738^{3258377153695921\\cdot2^{5}} \\not\\equiv -1 \\pmod{3668606533804371602905926074715} ,\\ \\text{ durchgefallen}$$"
      ],
      "text/plain": [
       "<IPython.core.display.Math object>"
      ]
     },
     "metadata": {},
     "output_type": "display_data"
    },
    {
     "data": {
      "text/latex": [
       "$$1543269312017268557313853455738^{3258377153695921\\cdot2^{6}} \\not\\equiv -1 \\pmod{3668606533804371602905926074715} ,\\ \\text{ durchgefallen}$$"
      ],
      "text/plain": [
       "<IPython.core.display.Math object>"
      ]
     },
     "metadata": {},
     "output_type": "display_data"
    },
    {
     "data": {
      "text/latex": [
       "$$1543269312017268557313853455738^{3258377153695921\\cdot2^{7}} \\not\\equiv -1 \\pmod{3668606533804371602905926074715} ,\\ \\text{ durchgefallen}$$"
      ],
      "text/plain": [
       "<IPython.core.display.Math object>"
      ]
     },
     "metadata": {},
     "output_type": "display_data"
    },
    {
     "data": {
      "text/latex": [
       "$$1543269312017268557313853455738^{3258377153695921\\cdot2^{8}} \\not\\equiv -1 \\pmod{3668606533804371602905926074715} ,\\ \\text{ durchgefallen}$$"
      ],
      "text/plain": [
       "<IPython.core.display.Math object>"
      ]
     },
     "metadata": {},
     "output_type": "display_data"
    },
    {
     "data": {
      "text/latex": [
       "$$1543269312017268557313853455738^{3258377153695921\\cdot2^{9}} \\not\\equiv -1 \\pmod{3668606533804371602905926074715} ,\\ \\text{ durchgefallen}$$"
      ],
      "text/plain": [
       "<IPython.core.display.Math object>"
      ]
     },
     "metadata": {},
     "output_type": "display_data"
    },
    {
     "data": {
      "text/latex": [
       "$$1543269312017268557313853455738^{3258377153695921\\cdot2^{10}} \\not\\equiv -1 \\pmod{3668606533804371602905926074715} ,\\ \\text{ durchgefallen}$$"
      ],
      "text/plain": [
       "<IPython.core.display.Math object>"
      ]
     },
     "metadata": {},
     "output_type": "display_data"
    },
    {
     "data": {
      "text/latex": [
       "$$1543269312017268557313853455738^{3258377153695921\\cdot2^{11}} \\not\\equiv -1 \\pmod{3668606533804371602905926074715} ,\\ \\text{ durchgefallen}$$"
      ],
      "text/plain": [
       "<IPython.core.display.Math object>"
      ]
     },
     "metadata": {},
     "output_type": "display_data"
    },
    {
     "data": {
      "text/latex": [
       "$$1543269312017268557313853455738^{3258377153695921\\cdot2^{12}} \\not\\equiv -1 \\pmod{3668606533804371602905926074715} ,\\ \\text{ durchgefallen}$$"
      ],
      "text/plain": [
       "<IPython.core.display.Math object>"
      ]
     },
     "metadata": {},
     "output_type": "display_data"
    },
    {
     "data": {
      "text/latex": [
       "$$1543269312017268557313853455738^{3258377153695921\\cdot2^{13}} \\not\\equiv -1 \\pmod{3668606533804371602905926074715} ,\\ \\text{ durchgefallen}$$"
      ],
      "text/plain": [
       "<IPython.core.display.Math object>"
      ]
     },
     "metadata": {},
     "output_type": "display_data"
    },
    {
     "data": {
      "text/latex": [
       "$$1543269312017268557313853455738^{3258377153695921\\cdot2^{14}} \\not\\equiv -1 \\pmod{3668606533804371602905926074715} ,\\ \\text{ durchgefallen}$$"
      ],
      "text/plain": [
       "<IPython.core.display.Math object>"
      ]
     },
     "metadata": {},
     "output_type": "display_data"
    },
    {
     "data": {
      "text/latex": [
       "$$1543269312017268557313853455738^{3258377153695921\\cdot2^{15}} \\not\\equiv -1 \\pmod{3668606533804371602905926074715} ,\\ \\text{ durchgefallen}$$"
      ],
      "text/plain": [
       "<IPython.core.display.Math object>"
      ]
     },
     "metadata": {},
     "output_type": "display_data"
    },
    {
     "data": {
      "text/latex": [
       "$$1543269312017268557313853455738^{3258377153695921\\cdot2^{16}} \\not\\equiv -1 \\pmod{3668606533804371602905926074715} ,\\ \\text{ durchgefallen}$$"
      ],
      "text/plain": [
       "<IPython.core.display.Math object>"
      ]
     },
     "metadata": {},
     "output_type": "display_data"
    },
    {
     "data": {
      "text/latex": [
       "$$1543269312017268557313853455738^{3258377153695921\\cdot2^{17}} \\not\\equiv -1 \\pmod{3668606533804371602905926074715} ,\\ \\text{ durchgefallen}$$"
      ],
      "text/plain": [
       "<IPython.core.display.Math object>"
      ]
     },
     "metadata": {},
     "output_type": "display_data"
    },
    {
     "data": {
      "text/latex": [
       "$$1543269312017268557313853455738^{3258377153695921\\cdot2^{18}} \\not\\equiv -1 \\pmod{3668606533804371602905926074715} ,\\ \\text{ durchgefallen}$$"
      ],
      "text/plain": [
       "<IPython.core.display.Math object>"
      ]
     },
     "metadata": {},
     "output_type": "display_data"
    },
    {
     "data": {
      "text/latex": [
       "$$1543269312017268557313853455738^{3258377153695921\\cdot2^{19}} \\not\\equiv -1 \\pmod{3668606533804371602905926074715} ,\\ \\text{ durchgefallen}$$"
      ],
      "text/plain": [
       "<IPython.core.display.Math object>"
      ]
     },
     "metadata": {},
     "output_type": "display_data"
    },
    {
     "data": {
      "text/latex": [
       "$$1543269312017268557313853455738^{3258377153695921\\cdot2^{20}} \\not\\equiv -1 \\pmod{3668606533804371602905926074715} ,\\ \\text{ durchgefallen}$$"
      ],
      "text/plain": [
       "<IPython.core.display.Math object>"
      ]
     },
     "metadata": {},
     "output_type": "display_data"
    },
    {
     "data": {
      "text/latex": [
       "$$1543269312017268557313853455738^{3258377153695921\\cdot2^{21}} \\not\\equiv -1 \\pmod{3668606533804371602905926074715} ,\\ \\text{ durchgefallen}$$"
      ],
      "text/plain": [
       "<IPython.core.display.Math object>"
      ]
     },
     "metadata": {},
     "output_type": "display_data"
    },
    {
     "data": {
      "text/latex": [
       "$$1543269312017268557313853455738^{3258377153695921\\cdot2^{22}} \\not\\equiv -1 \\pmod{3668606533804371602905926074715} ,\\ \\text{ durchgefallen}$$"
      ],
      "text/plain": [
       "<IPython.core.display.Math object>"
      ]
     },
     "metadata": {},
     "output_type": "display_data"
    },
    {
     "data": {
      "text/latex": [
       "$$1543269312017268557313853455738^{3258377153695921\\cdot2^{23}} \\not\\equiv -1 \\pmod{3668606533804371602905926074715} ,\\ \\text{ durchgefallen}$$"
      ],
      "text/plain": [
       "<IPython.core.display.Math object>"
      ]
     },
     "metadata": {},
     "output_type": "display_data"
    },
    {
     "data": {
      "text/latex": [
       "$$1543269312017268557313853455738^{3258377153695921\\cdot2^{24}} \\not\\equiv -1 \\pmod{3668606533804371602905926074715} ,\\ \\text{ durchgefallen}$$"
      ],
      "text/plain": [
       "<IPython.core.display.Math object>"
      ]
     },
     "metadata": {},
     "output_type": "display_data"
    },
    {
     "data": {
      "text/latex": [
       "$$1543269312017268557313853455738^{3258377153695921\\cdot2^{25}} \\not\\equiv -1 \\pmod{3668606533804371602905926074715} ,\\ \\text{ durchgefallen}$$"
      ],
      "text/plain": [
       "<IPython.core.display.Math object>"
      ]
     },
     "metadata": {},
     "output_type": "display_data"
    },
    {
     "data": {
      "text/latex": [
       "$$1543269312017268557313853455738^{3258377153695921\\cdot2^{26}} \\not\\equiv -1 \\pmod{3668606533804371602905926074715} ,\\ \\text{ durchgefallen}$$"
      ],
      "text/plain": [
       "<IPython.core.display.Math object>"
      ]
     },
     "metadata": {},
     "output_type": "display_data"
    },
    {
     "data": {
      "text/latex": [
       "$$1543269312017268557313853455738^{3258377153695921\\cdot2^{27}} \\not\\equiv -1 \\pmod{3668606533804371602905926074715} ,\\ \\text{ durchgefallen}$$"
      ],
      "text/plain": [
       "<IPython.core.display.Math object>"
      ]
     },
     "metadata": {},
     "output_type": "display_data"
    },
    {
     "data": {
      "text/latex": [
       "$$1543269312017268557313853455738^{3258377153695921\\cdot2^{28}} \\not\\equiv -1 \\pmod{3668606533804371602905926074715} ,\\ \\text{ durchgefallen}$$"
      ],
      "text/plain": [
       "<IPython.core.display.Math object>"
      ]
     },
     "metadata": {},
     "output_type": "display_data"
    },
    {
     "data": {
      "text/latex": [
       "$$1543269312017268557313853455738^{3258377153695921\\cdot2^{29}} \\not\\equiv -1 \\pmod{3668606533804371602905926074715} ,\\ \\text{ durchgefallen}$$"
      ],
      "text/plain": [
       "<IPython.core.display.Math object>"
      ]
     },
     "metadata": {},
     "output_type": "display_data"
    },
    {
     "data": {
      "text/latex": [
       "$$1543269312017268557313853455738^{3258377153695921\\cdot2^{30}} \\not\\equiv -1 \\pmod{3668606533804371602905926074715} ,\\ \\text{ durchgefallen}$$"
      ],
      "text/plain": [
       "<IPython.core.display.Math object>"
      ]
     },
     "metadata": {},
     "output_type": "display_data"
    },
    {
     "data": {
      "text/latex": [
       "$$1543269312017268557313853455738^{3258377153695921\\cdot2^{31}} \\not\\equiv -1 \\pmod{3668606533804371602905926074715} ,\\ \\text{ durchgefallen}$$"
      ],
      "text/plain": [
       "<IPython.core.display.Math object>"
      ]
     },
     "metadata": {},
     "output_type": "display_data"
    },
    {
     "data": {
      "text/latex": [
       "$$1543269312017268557313853455738^{3258377153695921\\cdot2^{32}} \\not\\equiv -1 \\pmod{3668606533804371602905926074715} ,\\ \\text{ durchgefallen}$$"
      ],
      "text/plain": [
       "<IPython.core.display.Math object>"
      ]
     },
     "metadata": {},
     "output_type": "display_data"
    },
    {
     "data": {
      "text/latex": [
       "$$1543269312017268557313853455738^{3258377153695921\\cdot2^{33}} \\not\\equiv -1 \\pmod{3668606533804371602905926074715} ,\\ \\text{ durchgefallen}$$"
      ],
      "text/plain": [
       "<IPython.core.display.Math object>"
      ]
     },
     "metadata": {},
     "output_type": "display_data"
    },
    {
     "data": {
      "text/latex": [
       "$$1543269312017268557313853455738^{3258377153695921\\cdot2^{34}} \\not\\equiv -1 \\pmod{3668606533804371602905926074715} ,\\ \\text{ durchgefallen}$$"
      ],
      "text/plain": [
       "<IPython.core.display.Math object>"
      ]
     },
     "metadata": {},
     "output_type": "display_data"
    },
    {
     "data": {
      "text/latex": [
       "$$1543269312017268557313853455738^{3258377153695921\\cdot2^{35}} \\not\\equiv -1 \\pmod{3668606533804371602905926074715} ,\\ \\text{ durchgefallen}$$"
      ],
      "text/plain": [
       "<IPython.core.display.Math object>"
      ]
     },
     "metadata": {},
     "output_type": "display_data"
    },
    {
     "data": {
      "text/latex": [
       "$$1543269312017268557313853455738^{3258377153695921\\cdot2^{36}} \\not\\equiv -1 \\pmod{3668606533804371602905926074715} ,\\ \\text{ durchgefallen}$$"
      ],
      "text/plain": [
       "<IPython.core.display.Math object>"
      ]
     },
     "metadata": {},
     "output_type": "display_data"
    },
    {
     "data": {
      "text/latex": [
       "$$1543269312017268557313853455738^{3258377153695921\\cdot2^{37}} \\not\\equiv -1 \\pmod{3668606533804371602905926074715} ,\\ \\text{ durchgefallen}$$"
      ],
      "text/plain": [
       "<IPython.core.display.Math object>"
      ]
     },
     "metadata": {},
     "output_type": "display_data"
    },
    {
     "data": {
      "text/latex": [
       "$$1543269312017268557313853455738^{3258377153695921\\cdot2^{38}} \\not\\equiv -1 \\pmod{3668606533804371602905926074715} ,\\ \\text{ durchgefallen}$$"
      ],
      "text/plain": [
       "<IPython.core.display.Math object>"
      ]
     },
     "metadata": {},
     "output_type": "display_data"
    },
    {
     "data": {
      "text/latex": [
       "$$1543269312017268557313853455738^{3258377153695921\\cdot2^{39}} \\not\\equiv -1 \\pmod{3668606533804371602905926074715} ,\\ \\text{ durchgefallen}$$"
      ],
      "text/plain": [
       "<IPython.core.display.Math object>"
      ]
     },
     "metadata": {},
     "output_type": "display_data"
    },
    {
     "data": {
      "text/latex": [
       "$$1543269312017268557313853455738^{3258377153695921\\cdot2^{40}} \\not\\equiv -1 \\pmod{3668606533804371602905926074715} ,\\ \\text{ durchgefallen}$$"
      ],
      "text/plain": [
       "<IPython.core.display.Math object>"
      ]
     },
     "metadata": {},
     "output_type": "display_data"
    },
    {
     "data": {
      "text/latex": [
       "$$1543269312017268557313853455738^{3258377153695921\\cdot2^{41}} \\not\\equiv -1 \\pmod{3668606533804371602905926074715} ,\\ \\text{ durchgefallen}$$"
      ],
      "text/plain": [
       "<IPython.core.display.Math object>"
      ]
     },
     "metadata": {},
     "output_type": "display_data"
    },
    {
     "data": {
      "text/latex": [
       "$$1543269312017268557313853455738^{3258377153695921\\cdot2^{42}} \\not\\equiv -1 \\pmod{3668606533804371602905926074715} ,\\ \\text{ durchgefallen}$$"
      ],
      "text/plain": [
       "<IPython.core.display.Math object>"
      ]
     },
     "metadata": {},
     "output_type": "display_data"
    },
    {
     "data": {
      "text/latex": [
       "$$1543269312017268557313853455738^{3258377153695921\\cdot2^{43}} \\not\\equiv -1 \\pmod{3668606533804371602905926074715} ,\\ \\text{ durchgefallen}$$"
      ],
      "text/plain": [
       "<IPython.core.display.Math object>"
      ]
     },
     "metadata": {},
     "output_type": "display_data"
    },
    {
     "data": {
      "text/latex": [
       "$$1543269312017268557313853455738^{3258377153695921\\cdot2^{44}} \\not\\equiv -1 \\pmod{3668606533804371602905926074715} ,\\ \\text{ durchgefallen}$$"
      ],
      "text/plain": [
       "<IPython.core.display.Math object>"
      ]
     },
     "metadata": {},
     "output_type": "display_data"
    },
    {
     "data": {
      "text/latex": [
       "$$1543269312017268557313853455738^{3258377153695921\\cdot2^{45}} \\not\\equiv -1 \\pmod{3668606533804371602905926074715} ,\\ \\text{ durchgefallen}$$"
      ],
      "text/plain": [
       "<IPython.core.display.Math object>"
      ]
     },
     "metadata": {},
     "output_type": "display_data"
    },
    {
     "data": {
      "text/latex": [
       "$$1543269312017268557313853455738^{3258377153695921\\cdot2^{46}} \\not\\equiv -1 \\pmod{3668606533804371602905926074715} ,\\ \\text{ durchgefallen}$$"
      ],
      "text/plain": [
       "<IPython.core.display.Math object>"
      ]
     },
     "metadata": {},
     "output_type": "display_data"
    },
    {
     "data": {
      "text/latex": [
       "$$1543269312017268557313853455738^{3258377153695921\\cdot2^{47}} \\not\\equiv -1 \\pmod{3668606533804371602905926074715} ,\\ \\text{ durchgefallen}$$"
      ],
      "text/plain": [
       "<IPython.core.display.Math object>"
      ]
     },
     "metadata": {},
     "output_type": "display_data"
    },
    {
     "data": {
      "text/latex": [
       "$$1543269312017268557313853455738^{3258377153695921\\cdot2^{48}} \\not\\equiv -1 \\pmod{3668606533804371602905926074715} ,\\ \\text{ durchgefallen}$$"
      ],
      "text/plain": [
       "<IPython.core.display.Math object>"
      ]
     },
     "metadata": {},
     "output_type": "display_data"
    },
    {
     "data": {
      "text/latex": [
       "$$1543269312017268557313853455738^{3258377153695921\\cdot2^{49}} \\not\\equiv -1 \\pmod{3668606533804371602905926074715} ,\\ \\text{ durchgefallen}$$"
      ],
      "text/plain": [
       "<IPython.core.display.Math object>"
      ]
     },
     "metadata": {},
     "output_type": "display_data"
    },
    {
     "data": {
      "text/markdown": [
       "**3668606533804371602905926074715 ist keine Primzahl!**"
      ],
      "text/plain": [
       "<IPython.core.display.Markdown object>"
      ]
     },
     "metadata": {},
     "output_type": "display_data"
    }
   ],
   "source": [
    "# Wähle eine Anzahl (numTests) zufällige a aus der Menge {2,3...,n-2}, numTests ist dabei maximal n-3\n",
    "numTests = min(n-3, 10)\n",
    "\n",
    "aa = set()\n",
    "while len(aa) is not numTests:\n",
    "    aa.add(random.randint(2, n-1))\n",
    "\n",
    "for i, a in enumerate(aa):\n",
    "    printmd(\"**Test %s,** $a=%s$\", i+1, a)\n",
    "    if pow(a, d, n) == 1:\n",
    "        printmath(r\"%s^{%s} \\equiv 1 \\pmod{%s} ,\\ \\text{ bestanden}\", a, d, n)\n",
    "        continue\n",
    "    else: printmath(r\"%s^{%s} \\not\\equiv 1 \\pmod{%s} ,\\ \\text{ durchgefallen}\", a, d, n)\n",
    "    for r in range(0, j):\n",
    "        if pow(a, d*2**r, n) == n-1:\n",
    "            printmath(r\"%s^{%s\\cdot2^{%s}} \\equiv -1 \\pmod{%s} ,\\ \\text{ bestanden}\", a, d, r, n)\n",
    "            break\n",
    "        else: printmath(r\"%s^{%s\\cdot2^{%s}} \\not\\equiv -1 \\pmod{%s} ,\\ \\text{ durchgefallen}\", a, d, r, n)\n",
    "    else:\n",
    "        printmd(\"**%s ist keine Primzahl!**\", n)\n",
    "        break\n",
    "else:\n",
    "    printmd(\"**Alle %s Tests bestanden, %s ist wahrscheinlich prim!**\", numTests, n)"
   ]
  }
 ],
 "metadata": {
  "kernelspec": {
   "display_name": "Python 3",
   "language": "python",
   "name": "python3"
  },
  "language_info": {
   "codemirror_mode": {
    "name": "ipython",
    "version": 3
   },
   "file_extension": ".py",
   "mimetype": "text/x-python",
   "name": "python",
   "nbconvert_exporter": "python",
   "pygments_lexer": "ipython3",
   "version": "3.6.3"
  }
 },
 "nbformat": 4,
 "nbformat_minor": 2
}
