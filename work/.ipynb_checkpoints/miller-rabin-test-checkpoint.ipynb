{
 "cells": [
  {
   "cell_type": "markdown",
   "metadata": {},
   "source": [
    "# Miller-Rabin-Test"
   ]
  },
  {
   "cell_type": "code",
   "execution_count": 58,
   "metadata": {},
   "outputs": [
    {
     "data": {
      "text/latex": [
       "$$n = 12801$$"
      ],
      "text/plain": [
       "<IPython.core.display.Math object>"
      ]
     },
     "metadata": {},
     "output_type": "display_data"
    }
   ],
   "source": [
    "from IPython.display import display, Math\n",
    "from sympy import init_printing, Rational, log, floor\n",
    "import random\n",
    "init_printing()\n",
    "\n",
    "# Sei n eine ungerade Zahl >= 5\n",
    "n = 512*25+1\n",
    "\n",
    "if n%2==0 or n<5:\n",
    "    raise ValueError(\"n muss ungerade und >= 5 sein!!\")\n",
    "display(Math(r\"n = \"+str(n)))"
   ]
  },
  {
   "cell_type": "markdown",
   "metadata": {},
   "source": [
    "**Definiere s: Hierbei ist \"s\" der log2 der größten Zahl der Form 2^r, die (n - 1) teilt**"
   ]
  },
  {
   "cell_type": "code",
   "execution_count": 59,
   "metadata": {},
   "outputs": [
    {
     "name": "stdout",
     "output_type": "stream",
     "text": [
      "Grösstmögliche 2-er Potenz:\n"
     ]
    },
    {
     "data": {
      "text/latex": [
       "$$\\lfloor{\\log_{2}{(12801 - 1)}}\\rfloor = 13$$"
      ],
      "text/plain": [
       "<IPython.core.display.Math object>"
      ]
     },
     "metadata": {},
     "output_type": "display_data"
    },
    {
     "name": "stdout",
     "output_type": "stream",
     "text": [
      "Finde s:\n"
     ]
    },
    {
     "data": {
      "text/latex": [
       "$$2^{13} = 8192\\text{, teilt 12800 nicht}$$"
      ],
      "text/plain": [
       "<IPython.core.display.Math object>"
      ]
     },
     "metadata": {},
     "output_type": "display_data"
    },
    {
     "data": {
      "text/latex": [
       "$$2^{12} = 4096\\text{, teilt 12800 nicht}$$"
      ],
      "text/plain": [
       "<IPython.core.display.Math object>"
      ]
     },
     "metadata": {},
     "output_type": "display_data"
    },
    {
     "data": {
      "text/latex": [
       "$$2^{11} = 2048\\text{, teilt 12800 nicht}$$"
      ],
      "text/plain": [
       "<IPython.core.display.Math object>"
      ]
     },
     "metadata": {},
     "output_type": "display_data"
    },
    {
     "data": {
      "text/latex": [
       "$$2^{10} = 1024\\text{, teilt 12800 nicht}$$"
      ],
      "text/plain": [
       "<IPython.core.display.Math object>"
      ]
     },
     "metadata": {},
     "output_type": "display_data"
    },
    {
     "data": {
      "text/latex": [
       "$$2^{9} = 512\\text{, teilt 12800}$$"
      ],
      "text/plain": [
       "<IPython.core.display.Math object>"
      ]
     },
     "metadata": {},
     "output_type": "display_data"
    },
    {
     "data": {
      "text/latex": [
       "$$s = 9$$"
      ],
      "text/plain": [
       "<IPython.core.display.Math object>"
      ]
     },
     "metadata": {},
     "output_type": "display_data"
    }
   ],
   "source": [
    "m = n-1\n",
    "biggest_possible_power = floor(log(m, 2))\n",
    "print(\"Grösstmögliche 2-er Potenz:\")\n",
    "display(Math(r\"\\lfloor{\\log_{2}{(\"+str(n)+r\" - 1)}}\\rfloor = \"+str(biggest_possible_power)))\n",
    "\n",
    "print(\"Finde s:\")\n",
    "s = 1\n",
    "for i in range(biggest_possible_power, 0, -1):\n",
    "    pow = 2**i\n",
    "    if m%pow == 0:\n",
    "        display(Math(r\"2^{\"+str(i)+\"} = \"+str(pow)+r\"\\text{, teilt \"+str(m)+\"}\"))\n",
    "        s = i\n",
    "        break\n",
    "    else:\n",
    "        display(Math(r\"2^{\"+str(i)+\"} = \"+str(pow)+r\"\\text{, teilt \"+str(m)+\" nicht}\"))\n",
    "        \n",
    "display(Math(r\"s = \"+str(s)))"
   ]
  },
  {
   "cell_type": "markdown",
   "metadata": {},
   "source": [
    "**Definiere d**"
   ]
  },
  {
   "cell_type": "code",
   "execution_count": 60,
   "metadata": {},
   "outputs": [
    {
     "data": {
      "text/latex": [
       "$$d = \\frac{n-1}{2^s} = 25$$"
      ],
      "text/plain": [
       "<IPython.core.display.Math object>"
      ]
     },
     "metadata": {},
     "output_type": "display_data"
    }
   ],
   "source": [
    "d = Rational(n-1, 2**s)\n",
    "\n",
    "display(Math(r\"d = \\frac{n-1}{2^s} = \"+str(d)))"
   ]
  },
  {
   "cell_type": "markdown",
   "metadata": {},
   "source": [
    "**Wähle ein beliebiges a aus der Menge {2, 3, ..., n-2}**"
   ]
  },
  {
   "cell_type": "code",
   "execution_count": 61,
   "metadata": {},
   "outputs": [
    {
     "data": {
      "text/latex": [
       "$$a = 391$$"
      ],
      "text/plain": [
       "<IPython.core.display.Math object>"
      ]
     },
     "metadata": {},
     "output_type": "display_data"
    }
   ],
   "source": [
    "a = random.randint(2, n-2)\n",
    "\n",
    "display(Math(r\"a = \"+str(a)))"
   ]
  },
  {
   "cell_type": "markdown",
   "metadata": {},
   "source": [
    "**Teste:**"
   ]
  },
  {
   "cell_type": "code",
   "execution_count": null,
   "metadata": {},
   "outputs": [],
   "source": []
  }
 ],
 "metadata": {
  "kernelspec": {
   "display_name": "Python 3",
   "language": "python",
   "name": "python3"
  },
  "language_info": {
   "codemirror_mode": {
    "name": "ipython",
    "version": 3
   },
   "file_extension": ".py",
   "mimetype": "text/x-python",
   "name": "python",
   "nbconvert_exporter": "python",
   "pygments_lexer": "ipython3",
   "version": "3.6.3"
  }
 },
 "nbformat": 4,
 "nbformat_minor": 2
}
