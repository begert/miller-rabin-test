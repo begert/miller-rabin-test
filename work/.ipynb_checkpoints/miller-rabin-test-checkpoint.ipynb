{
 "cells": [
  {
   "cell_type": "markdown",
   "metadata": {},
   "source": [
    "# Miller-Rabin-Test"
   ]
  },
  {
   "cell_type": "code",
   "execution_count": 11,
   "metadata": {},
   "outputs": [],
   "source": [
    "from IPython.display import display, Math, Markdown\n",
    "from math import log, floor\n",
    "import random\n",
    "def printmath(str, *args): display(Math(str%args))\n",
    "def printmd(str, *args): display(Markdown(str%args))"
   ]
  },
  {
   "cell_type": "markdown",
   "metadata": {},
   "source": [
    "**Wähle Kandidat n, eine ungerade Zahl >= 5**"
   ]
  },
  {
   "cell_type": "code",
   "execution_count": 15,
   "metadata": {},
   "outputs": [
    {
     "data": {
      "text/latex": [
       "$$n = 89$$"
      ],
      "text/plain": [
       "<IPython.core.display.Math object>"
      ]
     },
     "metadata": {},
     "output_type": "display_data"
    }
   ],
   "source": [
    "n = 89\n",
    "#n = 847062085561\n",
    "#n = random.randrange(5, 1e12, 2)\n",
    "\n",
    "if n%2==0 or n<5:\n",
    "    raise ValueError(\"n muss ungerade und >= 5 sein!!\")\n",
    "printmath(\"n = %s\", n)"
   ]
  },
  {
   "cell_type": "markdown",
   "metadata": {},
   "source": [
    "**Definiere j, d, sodass: $n-1=d\\cdot2^j$**"
   ]
  },
  {
   "cell_type": "code",
   "execution_count": 16,
   "metadata": {},
   "outputs": [
    {
     "data": {
      "text/latex": [
       "$$j = 3$$"
      ],
      "text/plain": [
       "<IPython.core.display.Math object>"
      ]
     },
     "metadata": {},
     "output_type": "display_data"
    },
    {
     "data": {
      "text/latex": [
       "$$d = 11$$"
      ],
      "text/plain": [
       "<IPython.core.display.Math object>"
      ]
     },
     "metadata": {},
     "output_type": "display_data"
    }
   ],
   "source": [
    "j = 0\n",
    "d = n-1\n",
    "while d%2 == 0:\n",
    "    j = j + 1\n",
    "    d = int(d / 2)\n",
    "    \n",
    "printmath(\"j = %s\", j)\n",
    "printmath(r\"d = %s\", d)"
   ]
  },
  {
   "cell_type": "markdown",
   "metadata": {},
   "source": [
    "**Teste mit beliebigen $ a \\in \\{2, 3, ..., n-2\\}$**"
   ]
  },
  {
   "cell_type": "code",
   "execution_count": 21,
   "metadata": {
    "scrolled": false
   },
   "outputs": [
    {
     "data": {
      "text/markdown": [
       "**Test 1,** $a=3$"
      ],
      "text/plain": [
       "<IPython.core.display.Markdown object>"
      ]
     },
     "metadata": {},
     "output_type": "display_data"
    },
    {
     "data": {
      "text/latex": [
       "$$3^{11} \\not\\equiv 1 \\pmod{89} ,\\ \\text{ durchgefallen}$$"
      ],
      "text/plain": [
       "<IPython.core.display.Math object>"
      ]
     },
     "metadata": {},
     "output_type": "display_data"
    },
    {
     "data": {
      "text/latex": [
       "$$3^{11\\cdot2^0} \\not\\equiv -1 \\pmod{89} ,\\ \\text{ durchgefallen}$$"
      ],
      "text/plain": [
       "<IPython.core.display.Math object>"
      ]
     },
     "metadata": {},
     "output_type": "display_data"
    },
    {
     "data": {
      "text/latex": [
       "$$3^{11\\cdot2^1} \\not\\equiv -1 \\pmod{89} ,\\ \\text{ durchgefallen}$$"
      ],
      "text/plain": [
       "<IPython.core.display.Math object>"
      ]
     },
     "metadata": {},
     "output_type": "display_data"
    },
    {
     "data": {
      "text/latex": [
       "$$3^{11\\cdot2^2} \\equiv -1 \\pmod{89} ,\\ \\text{ bestanden}$$"
      ],
      "text/plain": [
       "<IPython.core.display.Math object>"
      ]
     },
     "metadata": {},
     "output_type": "display_data"
    },
    {
     "data": {
      "text/markdown": [
       "**Test 2,** $a=3$"
      ],
      "text/plain": [
       "<IPython.core.display.Markdown object>"
      ]
     },
     "metadata": {},
     "output_type": "display_data"
    },
    {
     "data": {
      "text/latex": [
       "$$3^{11} \\not\\equiv 1 \\pmod{89} ,\\ \\text{ durchgefallen}$$"
      ],
      "text/plain": [
       "<IPython.core.display.Math object>"
      ]
     },
     "metadata": {},
     "output_type": "display_data"
    },
    {
     "data": {
      "text/latex": [
       "$$3^{11\\cdot2^0} \\not\\equiv -1 \\pmod{89} ,\\ \\text{ durchgefallen}$$"
      ],
      "text/plain": [
       "<IPython.core.display.Math object>"
      ]
     },
     "metadata": {},
     "output_type": "display_data"
    },
    {
     "data": {
      "text/latex": [
       "$$3^{11\\cdot2^1} \\not\\equiv -1 \\pmod{89} ,\\ \\text{ durchgefallen}$$"
      ],
      "text/plain": [
       "<IPython.core.display.Math object>"
      ]
     },
     "metadata": {},
     "output_type": "display_data"
    },
    {
     "data": {
      "text/latex": [
       "$$3^{11\\cdot2^2} \\equiv -1 \\pmod{89} ,\\ \\text{ bestanden}$$"
      ],
      "text/plain": [
       "<IPython.core.display.Math object>"
      ]
     },
     "metadata": {},
     "output_type": "display_data"
    },
    {
     "data": {
      "text/markdown": [
       "**Test 3,** $a=3$"
      ],
      "text/plain": [
       "<IPython.core.display.Markdown object>"
      ]
     },
     "metadata": {},
     "output_type": "display_data"
    },
    {
     "data": {
      "text/latex": [
       "$$3^{11} \\not\\equiv 1 \\pmod{89} ,\\ \\text{ durchgefallen}$$"
      ],
      "text/plain": [
       "<IPython.core.display.Math object>"
      ]
     },
     "metadata": {},
     "output_type": "display_data"
    },
    {
     "data": {
      "text/latex": [
       "$$3^{11\\cdot2^0} \\not\\equiv -1 \\pmod{89} ,\\ \\text{ durchgefallen}$$"
      ],
      "text/plain": [
       "<IPython.core.display.Math object>"
      ]
     },
     "metadata": {},
     "output_type": "display_data"
    },
    {
     "data": {
      "text/latex": [
       "$$3^{11\\cdot2^1} \\not\\equiv -1 \\pmod{89} ,\\ \\text{ durchgefallen}$$"
      ],
      "text/plain": [
       "<IPython.core.display.Math object>"
      ]
     },
     "metadata": {},
     "output_type": "display_data"
    },
    {
     "data": {
      "text/latex": [
       "$$3^{11\\cdot2^2} \\equiv -1 \\pmod{89} ,\\ \\text{ bestanden}$$"
      ],
      "text/plain": [
       "<IPython.core.display.Math object>"
      ]
     },
     "metadata": {},
     "output_type": "display_data"
    },
    {
     "data": {
      "text/markdown": [
       "**Test 4,** $a=3$"
      ],
      "text/plain": [
       "<IPython.core.display.Markdown object>"
      ]
     },
     "metadata": {},
     "output_type": "display_data"
    },
    {
     "data": {
      "text/latex": [
       "$$3^{11} \\not\\equiv 1 \\pmod{89} ,\\ \\text{ durchgefallen}$$"
      ],
      "text/plain": [
       "<IPython.core.display.Math object>"
      ]
     },
     "metadata": {},
     "output_type": "display_data"
    },
    {
     "data": {
      "text/latex": [
       "$$3^{11\\cdot2^0} \\not\\equiv -1 \\pmod{89} ,\\ \\text{ durchgefallen}$$"
      ],
      "text/plain": [
       "<IPython.core.display.Math object>"
      ]
     },
     "metadata": {},
     "output_type": "display_data"
    },
    {
     "data": {
      "text/latex": [
       "$$3^{11\\cdot2^1} \\not\\equiv -1 \\pmod{89} ,\\ \\text{ durchgefallen}$$"
      ],
      "text/plain": [
       "<IPython.core.display.Math object>"
      ]
     },
     "metadata": {},
     "output_type": "display_data"
    },
    {
     "data": {
      "text/latex": [
       "$$3^{11\\cdot2^2} \\equiv -1 \\pmod{89} ,\\ \\text{ bestanden}$$"
      ],
      "text/plain": [
       "<IPython.core.display.Math object>"
      ]
     },
     "metadata": {},
     "output_type": "display_data"
    },
    {
     "data": {
      "text/markdown": [
       "**Test 5,** $a=3$"
      ],
      "text/plain": [
       "<IPython.core.display.Markdown object>"
      ]
     },
     "metadata": {},
     "output_type": "display_data"
    },
    {
     "data": {
      "text/latex": [
       "$$3^{11} \\not\\equiv 1 \\pmod{89} ,\\ \\text{ durchgefallen}$$"
      ],
      "text/plain": [
       "<IPython.core.display.Math object>"
      ]
     },
     "metadata": {},
     "output_type": "display_data"
    },
    {
     "data": {
      "text/latex": [
       "$$3^{11\\cdot2^0} \\not\\equiv -1 \\pmod{89} ,\\ \\text{ durchgefallen}$$"
      ],
      "text/plain": [
       "<IPython.core.display.Math object>"
      ]
     },
     "metadata": {},
     "output_type": "display_data"
    },
    {
     "data": {
      "text/latex": [
       "$$3^{11\\cdot2^1} \\not\\equiv -1 \\pmod{89} ,\\ \\text{ durchgefallen}$$"
      ],
      "text/plain": [
       "<IPython.core.display.Math object>"
      ]
     },
     "metadata": {},
     "output_type": "display_data"
    },
    {
     "data": {
      "text/latex": [
       "$$3^{11\\cdot2^2} \\equiv -1 \\pmod{89} ,\\ \\text{ bestanden}$$"
      ],
      "text/plain": [
       "<IPython.core.display.Math object>"
      ]
     },
     "metadata": {},
     "output_type": "display_data"
    },
    {
     "data": {
      "text/markdown": [
       "**Test 6,** $a=3$"
      ],
      "text/plain": [
       "<IPython.core.display.Markdown object>"
      ]
     },
     "metadata": {},
     "output_type": "display_data"
    },
    {
     "data": {
      "text/latex": [
       "$$3^{11} \\not\\equiv 1 \\pmod{89} ,\\ \\text{ durchgefallen}$$"
      ],
      "text/plain": [
       "<IPython.core.display.Math object>"
      ]
     },
     "metadata": {},
     "output_type": "display_data"
    },
    {
     "data": {
      "text/latex": [
       "$$3^{11\\cdot2^0} \\not\\equiv -1 \\pmod{89} ,\\ \\text{ durchgefallen}$$"
      ],
      "text/plain": [
       "<IPython.core.display.Math object>"
      ]
     },
     "metadata": {},
     "output_type": "display_data"
    },
    {
     "data": {
      "text/latex": [
       "$$3^{11\\cdot2^1} \\not\\equiv -1 \\pmod{89} ,\\ \\text{ durchgefallen}$$"
      ],
      "text/plain": [
       "<IPython.core.display.Math object>"
      ]
     },
     "metadata": {},
     "output_type": "display_data"
    },
    {
     "data": {
      "text/latex": [
       "$$3^{11\\cdot2^2} \\equiv -1 \\pmod{89} ,\\ \\text{ bestanden}$$"
      ],
      "text/plain": [
       "<IPython.core.display.Math object>"
      ]
     },
     "metadata": {},
     "output_type": "display_data"
    },
    {
     "data": {
      "text/markdown": [
       "**Test 7,** $a=3$"
      ],
      "text/plain": [
       "<IPython.core.display.Markdown object>"
      ]
     },
     "metadata": {},
     "output_type": "display_data"
    },
    {
     "data": {
      "text/latex": [
       "$$3^{11} \\not\\equiv 1 \\pmod{89} ,\\ \\text{ durchgefallen}$$"
      ],
      "text/plain": [
       "<IPython.core.display.Math object>"
      ]
     },
     "metadata": {},
     "output_type": "display_data"
    },
    {
     "data": {
      "text/latex": [
       "$$3^{11\\cdot2^0} \\not\\equiv -1 \\pmod{89} ,\\ \\text{ durchgefallen}$$"
      ],
      "text/plain": [
       "<IPython.core.display.Math object>"
      ]
     },
     "metadata": {},
     "output_type": "display_data"
    },
    {
     "data": {
      "text/latex": [
       "$$3^{11\\cdot2^1} \\not\\equiv -1 \\pmod{89} ,\\ \\text{ durchgefallen}$$"
      ],
      "text/plain": [
       "<IPython.core.display.Math object>"
      ]
     },
     "metadata": {},
     "output_type": "display_data"
    },
    {
     "data": {
      "text/latex": [
       "$$3^{11\\cdot2^2} \\equiv -1 \\pmod{89} ,\\ \\text{ bestanden}$$"
      ],
      "text/plain": [
       "<IPython.core.display.Math object>"
      ]
     },
     "metadata": {},
     "output_type": "display_data"
    },
    {
     "data": {
      "text/markdown": [
       "**Test 8,** $a=3$"
      ],
      "text/plain": [
       "<IPython.core.display.Markdown object>"
      ]
     },
     "metadata": {},
     "output_type": "display_data"
    },
    {
     "data": {
      "text/latex": [
       "$$3^{11} \\not\\equiv 1 \\pmod{89} ,\\ \\text{ durchgefallen}$$"
      ],
      "text/plain": [
       "<IPython.core.display.Math object>"
      ]
     },
     "metadata": {},
     "output_type": "display_data"
    },
    {
     "data": {
      "text/latex": [
       "$$3^{11\\cdot2^0} \\not\\equiv -1 \\pmod{89} ,\\ \\text{ durchgefallen}$$"
      ],
      "text/plain": [
       "<IPython.core.display.Math object>"
      ]
     },
     "metadata": {},
     "output_type": "display_data"
    },
    {
     "data": {
      "text/latex": [
       "$$3^{11\\cdot2^1} \\not\\equiv -1 \\pmod{89} ,\\ \\text{ durchgefallen}$$"
      ],
      "text/plain": [
       "<IPython.core.display.Math object>"
      ]
     },
     "metadata": {},
     "output_type": "display_data"
    },
    {
     "data": {
      "text/latex": [
       "$$3^{11\\cdot2^2} \\equiv -1 \\pmod{89} ,\\ \\text{ bestanden}$$"
      ],
      "text/plain": [
       "<IPython.core.display.Math object>"
      ]
     },
     "metadata": {},
     "output_type": "display_data"
    },
    {
     "data": {
      "text/markdown": [
       "**Test 9,** $a=3$"
      ],
      "text/plain": [
       "<IPython.core.display.Markdown object>"
      ]
     },
     "metadata": {},
     "output_type": "display_data"
    },
    {
     "data": {
      "text/latex": [
       "$$3^{11} \\not\\equiv 1 \\pmod{89} ,\\ \\text{ durchgefallen}$$"
      ],
      "text/plain": [
       "<IPython.core.display.Math object>"
      ]
     },
     "metadata": {},
     "output_type": "display_data"
    },
    {
     "data": {
      "text/latex": [
       "$$3^{11\\cdot2^0} \\not\\equiv -1 \\pmod{89} ,\\ \\text{ durchgefallen}$$"
      ],
      "text/plain": [
       "<IPython.core.display.Math object>"
      ]
     },
     "metadata": {},
     "output_type": "display_data"
    },
    {
     "data": {
      "text/latex": [
       "$$3^{11\\cdot2^1} \\not\\equiv -1 \\pmod{89} ,\\ \\text{ durchgefallen}$$"
      ],
      "text/plain": [
       "<IPython.core.display.Math object>"
      ]
     },
     "metadata": {},
     "output_type": "display_data"
    },
    {
     "data": {
      "text/latex": [
       "$$3^{11\\cdot2^2} \\equiv -1 \\pmod{89} ,\\ \\text{ bestanden}$$"
      ],
      "text/plain": [
       "<IPython.core.display.Math object>"
      ]
     },
     "metadata": {},
     "output_type": "display_data"
    },
    {
     "data": {
      "text/markdown": [
       "**Test 10,** $a=3$"
      ],
      "text/plain": [
       "<IPython.core.display.Markdown object>"
      ]
     },
     "metadata": {},
     "output_type": "display_data"
    },
    {
     "data": {
      "text/latex": [
       "$$3^{11} \\not\\equiv 1 \\pmod{89} ,\\ \\text{ durchgefallen}$$"
      ],
      "text/plain": [
       "<IPython.core.display.Math object>"
      ]
     },
     "metadata": {},
     "output_type": "display_data"
    },
    {
     "data": {
      "text/latex": [
       "$$3^{11\\cdot2^0} \\not\\equiv -1 \\pmod{89} ,\\ \\text{ durchgefallen}$$"
      ],
      "text/plain": [
       "<IPython.core.display.Math object>"
      ]
     },
     "metadata": {},
     "output_type": "display_data"
    },
    {
     "data": {
      "text/latex": [
       "$$3^{11\\cdot2^1} \\not\\equiv -1 \\pmod{89} ,\\ \\text{ durchgefallen}$$"
      ],
      "text/plain": [
       "<IPython.core.display.Math object>"
      ]
     },
     "metadata": {},
     "output_type": "display_data"
    },
    {
     "data": {
      "text/latex": [
       "$$3^{11\\cdot2^2} \\equiv -1 \\pmod{89} ,\\ \\text{ bestanden}$$"
      ],
      "text/plain": [
       "<IPython.core.display.Math object>"
      ]
     },
     "metadata": {},
     "output_type": "display_data"
    },
    {
     "data": {
      "text/markdown": [
       "**Alle 10 Tests bestanden, 89 ist wahrscheinlich prim!**"
      ],
      "text/plain": [
       "<IPython.core.display.Markdown object>"
      ]
     },
     "metadata": {},
     "output_type": "display_data"
    }
   ],
   "source": [
    "# Wähle eine Anzahl (numTests) zufällige a aus der Menge {2,3...,n-2}, numTests ist dabei maximal n-3\n",
    "numTests = min(n-3, 10)\n",
    "aa = random.sample(range(2, n-1), numTests)\n",
    "for i, a in enumerate(aa):\n",
    "    printmd(\"**Test %s,** $a=%s$\"%(i+1, a))\n",
    "    if pow(a, d, n) == 1:\n",
    "        printmath(r\"%s^{%s} \\equiv 1 \\pmod{%s} ,\\ \\text{ bestanden}\", a, d, n)\n",
    "        continue\n",
    "    else: printmath(r\"%s^{%s} \\not\\equiv 1 \\pmod{%s} ,\\ \\text{ durchgefallen}\", a, d, n)\n",
    "    for r in range(0, j):\n",
    "        if pow(a, d*2**r, n) == n-1:\n",
    "            printmath(r\"%s^{%s\\cdot2^%s} \\equiv -1 \\pmod{%s} ,\\ \\text{ bestanden}\", a, d, r, n)\n",
    "            break\n",
    "        else: printmath(r\"%s^{%s\\cdot2^%s} \\not\\equiv -1 \\pmod{%s} ,\\ \\text{ durchgefallen}\", a, d, r, n)\n",
    "    else:\n",
    "        printmd(\"**%s ist keine Primzahl!**\", n)\n",
    "        break\n",
    "else:\n",
    "    printmd(\"**Alle %s Tests bestanden, %s ist wahrscheinlich prim!**\", numTests, n)"
   ]
  }
 ],
 "metadata": {
  "kernelspec": {
   "display_name": "Python 3",
   "language": "python",
   "name": "python3"
  },
  "language_info": {
   "codemirror_mode": {
    "name": "ipython",
    "version": 3
   },
   "file_extension": ".py",
   "mimetype": "text/x-python",
   "name": "python",
   "nbconvert_exporter": "python",
   "pygments_lexer": "ipython3",
   "version": "3.6.3"
  }
 },
 "nbformat": 4,
 "nbformat_minor": 2
}
