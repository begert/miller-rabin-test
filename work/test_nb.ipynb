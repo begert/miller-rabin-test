{
 "cells": [
  {
   "cell_type": "code",
   "execution_count": 71,
   "metadata": {},
   "outputs": [],
   "source": [
    "from math import log, floor\n",
    "import random\n",
    "\n",
    "def hui(n, aa):\n",
    "    pot = [n-1]\n",
    "    while pot[0]%2 == 0:\n",
    "        pot.insert(0, int(pot[0] / 2))\n",
    "    print(\"a\", pot)\n",
    "    print()\n",
    "\n",
    "    for a in aa:\n",
    "        pot1 = []\n",
    "        for x in pot:\n",
    "            p = pow(a, x, n)\n",
    "            if p == n-1: p = -1\n",
    "            pot1.append(p)\n",
    "        print(a, pot1)\n",
    "        \n",
    "def isPrime(n, t):\n",
    "    j = 0\n",
    "    d = n-1\n",
    "    while d%2 == 0:\n",
    "        j = j + 1\n",
    "        d = int(d / 2)\n",
    "    numTests = min(n-3, t)\n",
    "    aa = set()\n",
    "    while len(aa) is not numTests:\n",
    "        aa.add(random.randint(2, n-1))\n",
    "\n",
    "    for i, a in enumerate(aa):\n",
    "        if pow(a, d, n) == 1:\n",
    "            continue\n",
    "        for r in range(0, j):\n",
    "            if pow(a, d*2**r, n) == n-1:\n",
    "                break\n",
    "        else:\n",
    "            return False;\n",
    "    else:\n",
    "        return True;"
   ]
  },
  {
   "cell_type": "code",
   "execution_count": 68,
   "metadata": {},
   "outputs": [
    {
     "name": "stdout",
     "output_type": "stream",
     "text": [
      "a [11, 22, 44, 88]\n",
      "\n",
      "3 [37, 34, -1, 1]\n",
      "5 [55, -1, 1, 1]\n",
      "11 [-1, 1, 1, 1]\n",
      "2 [1, 1, 1, 1]\n",
      "34 [55, -1, 1, 1]\n"
     ]
    }
   ],
   "source": [
    "hui(89, [3, 5, 11, 2, 34])"
   ]
  },
  {
   "cell_type": "code",
   "execution_count": 69,
   "metadata": {},
   "outputs": [
    {
     "name": "stdout",
     "output_type": "stream",
     "text": [
      "a [13, 26, 52, 104]\n",
      "\n",
      "8 [8, 64, 1, 1]\n",
      "2 [2, 4, 16, 46]\n"
     ]
    }
   ],
   "source": [
    "hui(105, [8, 2])"
   ]
  },
  {
   "cell_type": "code",
   "execution_count": 76,
   "metadata": {},
   "outputs": [],
   "source": [
    "\n",
    "tries = 0\n",
    "while tries < 1000000:\n",
    "    tries = tries + 1\n",
    "    n = random.randrange(5, 1e32, 2)\n",
    "    if isPrime(n, 10):\n",
    "        print(\"n=\" +str(n))\n",
    "        break\n"
   ]
  }
 ],
 "metadata": {
  "kernelspec": {
   "display_name": "Python 3",
   "language": "python",
   "name": "python3"
  },
  "language_info": {
   "codemirror_mode": {
    "name": "ipython",
    "version": 3
   },
   "file_extension": ".py",
   "mimetype": "text/x-python",
   "name": "python",
   "nbconvert_exporter": "python",
   "pygments_lexer": "ipython3",
   "version": "3.6.3"
  }
 },
 "nbformat": 4,
 "nbformat_minor": 2
}
